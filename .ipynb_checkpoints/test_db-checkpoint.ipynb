{
 "cells": [
  {
   "cell_type": "code",
   "execution_count": 101,
   "id": "02ac3b44",
   "metadata": {},
   "outputs": [],
   "source": [
    "import os, sys, random, json\n",
    "import pandas as pd\n",
    "import numpy as np\n",
    "import psycopg2"
   ]
  },
  {
   "cell_type": "code",
   "execution_count": 225,
   "id": "0453fae8-b6ec-4806-95f9-9a2962d04299",
   "metadata": {},
   "outputs": [],
   "source": [
    "# data_preparation.py\n",
    "\n",
    "def fetch_data_path(cwd):\n",
    "    \n",
    "    weather_data_path = os.path.join(cwd, 'wx_data')\n",
    "    crop_data_path = os.path.join(cwd, 'yld_data')\n",
    "    return weather_data_path, crop_data_path\n",
    "\n",
    "def prepare_weather_data(input_path):\n",
    "    \n",
    "    filelists = []\n",
    "    for f in os.listdir(input_path):\n",
    "        tempdf = pd.read_csv(os.path.join(input_path, f), sep = '\\t', names = ['date', 'max_temp', 'min_temp', 'precipitation_amt'])\n",
    "        station_id = f[:f.index('.')]\n",
    "        tempdf['station_id'] = station_id\n",
    "        tempdf['date'] = pd.to_datetime(tempdf.date, format = '%Y%m%d').dt.date\n",
    "        tempdf['wid'] = tempdf['station_id'] + '_' + tempdf.date.astype(str)\n",
    "        filelists.append(tempdf)\n",
    "        \n",
    "    return pd.concat(filelists, axis=0, ignore_index=True)\n",
    "\n",
    "def prepare_crop_data(input_path):\n",
    "    \n",
    "    for f in os.listdir(input_path):\n",
    "        df = pd.read_csv(os.path.join(input_path, f), sep= '\\t', names= ['year', 'crop_grain_yield'])\n",
    "        \n",
    "    return df"
   ]
  },
  {
   "cell_type": "code",
   "execution_count": 227,
   "id": "5abe6f83-4123-427e-94c5-bb3f1924aa5e",
   "metadata": {},
   "outputs": [],
   "source": [
    "weather_data_path, crop_data_path = fetch_data_path(os.getcwd())\n",
    "weather_df = prepare_weather_data(weather_data_path)\n",
    "crop_df = prepare_crop_data(crop_data_path)"
   ]
  },
  {
   "cell_type": "code",
   "execution_count": 228,
   "id": "9d9380ec-5349-4dce-90e9-f1d85e1b6fe6",
   "metadata": {
    "collapsed": true,
    "jupyter": {
     "outputs_hidden": true
    },
    "tags": []
   },
   "outputs": [
    {
     "data": {
      "text/html": [
       "<div>\n",
       "<style scoped>\n",
       "    .dataframe tbody tr th:only-of-type {\n",
       "        vertical-align: middle;\n",
       "    }\n",
       "\n",
       "    .dataframe tbody tr th {\n",
       "        vertical-align: top;\n",
       "    }\n",
       "\n",
       "    .dataframe thead th {\n",
       "        text-align: right;\n",
       "    }\n",
       "</style>\n",
       "<table border=\"1\" class=\"dataframe\">\n",
       "  <thead>\n",
       "    <tr style=\"text-align: right;\">\n",
       "      <th></th>\n",
       "      <th>date</th>\n",
       "      <th>max_temp</th>\n",
       "      <th>min_temp</th>\n",
       "      <th>precipitation_amt</th>\n",
       "      <th>station_id</th>\n",
       "      <th>wid</th>\n",
       "    </tr>\n",
       "  </thead>\n",
       "  <tbody>\n",
       "    <tr>\n",
       "      <th>0</th>\n",
       "      <td>1985-01-01</td>\n",
       "      <td>-22</td>\n",
       "      <td>-128</td>\n",
       "      <td>94</td>\n",
       "      <td>USC00110072</td>\n",
       "      <td>USC00110072_1985-01-01</td>\n",
       "    </tr>\n",
       "    <tr>\n",
       "      <th>1</th>\n",
       "      <td>1985-01-02</td>\n",
       "      <td>-122</td>\n",
       "      <td>-217</td>\n",
       "      <td>0</td>\n",
       "      <td>USC00110072</td>\n",
       "      <td>USC00110072_1985-01-02</td>\n",
       "    </tr>\n",
       "    <tr>\n",
       "      <th>2</th>\n",
       "      <td>1985-01-03</td>\n",
       "      <td>-106</td>\n",
       "      <td>-244</td>\n",
       "      <td>0</td>\n",
       "      <td>USC00110072</td>\n",
       "      <td>USC00110072_1985-01-03</td>\n",
       "    </tr>\n",
       "    <tr>\n",
       "      <th>3</th>\n",
       "      <td>1985-01-04</td>\n",
       "      <td>-56</td>\n",
       "      <td>-189</td>\n",
       "      <td>0</td>\n",
       "      <td>USC00110072</td>\n",
       "      <td>USC00110072_1985-01-04</td>\n",
       "    </tr>\n",
       "    <tr>\n",
       "      <th>4</th>\n",
       "      <td>1985-01-05</td>\n",
       "      <td>11</td>\n",
       "      <td>-78</td>\n",
       "      <td>0</td>\n",
       "      <td>USC00110072</td>\n",
       "      <td>USC00110072_1985-01-05</td>\n",
       "    </tr>\n",
       "    <tr>\n",
       "      <th>...</th>\n",
       "      <td>...</td>\n",
       "      <td>...</td>\n",
       "      <td>...</td>\n",
       "      <td>...</td>\n",
       "      <td>...</td>\n",
       "      <td>...</td>\n",
       "    </tr>\n",
       "    <tr>\n",
       "      <th>1729952</th>\n",
       "      <td>2014-12-27</td>\n",
       "      <td>106</td>\n",
       "      <td>-6</td>\n",
       "      <td>0</td>\n",
       "      <td>USC00339312</td>\n",
       "      <td>USC00339312_2014-12-27</td>\n",
       "    </tr>\n",
       "    <tr>\n",
       "      <th>1729953</th>\n",
       "      <td>2014-12-28</td>\n",
       "      <td>128</td>\n",
       "      <td>11</td>\n",
       "      <td>91</td>\n",
       "      <td>USC00339312</td>\n",
       "      <td>USC00339312_2014-12-28</td>\n",
       "    </tr>\n",
       "    <tr>\n",
       "      <th>1729954</th>\n",
       "      <td>2014-12-29</td>\n",
       "      <td>33</td>\n",
       "      <td>-56</td>\n",
       "      <td>0</td>\n",
       "      <td>USC00339312</td>\n",
       "      <td>USC00339312_2014-12-29</td>\n",
       "    </tr>\n",
       "    <tr>\n",
       "      <th>1729955</th>\n",
       "      <td>2014-12-30</td>\n",
       "      <td>11</td>\n",
       "      <td>-83</td>\n",
       "      <td>0</td>\n",
       "      <td>USC00339312</td>\n",
       "      <td>USC00339312_2014-12-30</td>\n",
       "    </tr>\n",
       "    <tr>\n",
       "      <th>1729956</th>\n",
       "      <td>2014-12-31</td>\n",
       "      <td>-11</td>\n",
       "      <td>-106</td>\n",
       "      <td>0</td>\n",
       "      <td>USC00339312</td>\n",
       "      <td>USC00339312_2014-12-31</td>\n",
       "    </tr>\n",
       "  </tbody>\n",
       "</table>\n",
       "<p>1729957 rows × 6 columns</p>\n",
       "</div>"
      ],
      "text/plain": [
       "               date  max_temp  min_temp  precipitation_amt   station_id  \\\n",
       "0        1985-01-01       -22      -128                 94  USC00110072   \n",
       "1        1985-01-02      -122      -217                  0  USC00110072   \n",
       "2        1985-01-03      -106      -244                  0  USC00110072   \n",
       "3        1985-01-04       -56      -189                  0  USC00110072   \n",
       "4        1985-01-05        11       -78                  0  USC00110072   \n",
       "...             ...       ...       ...                ...          ...   \n",
       "1729952  2014-12-27       106        -6                  0  USC00339312   \n",
       "1729953  2014-12-28       128        11                 91  USC00339312   \n",
       "1729954  2014-12-29        33       -56                  0  USC00339312   \n",
       "1729955  2014-12-30        11       -83                  0  USC00339312   \n",
       "1729956  2014-12-31       -11      -106                  0  USC00339312   \n",
       "\n",
       "                            wid  \n",
       "0        USC00110072_1985-01-01  \n",
       "1        USC00110072_1985-01-02  \n",
       "2        USC00110072_1985-01-03  \n",
       "3        USC00110072_1985-01-04  \n",
       "4        USC00110072_1985-01-05  \n",
       "...                         ...  \n",
       "1729952  USC00339312_2014-12-27  \n",
       "1729953  USC00339312_2014-12-28  \n",
       "1729954  USC00339312_2014-12-29  \n",
       "1729955  USC00339312_2014-12-30  \n",
       "1729956  USC00339312_2014-12-31  \n",
       "\n",
       "[1729957 rows x 6 columns]"
      ]
     },
     "execution_count": 228,
     "metadata": {},
     "output_type": "execute_result"
    }
   ],
   "source": [
    "weather_df"
   ]
  },
  {
   "cell_type": "code",
   "execution_count": 229,
   "id": "c990adcf-49d1-49bc-a9ba-ceca623cb552",
   "metadata": {
    "tags": []
   },
   "outputs": [
    {
     "data": {
      "text/html": [
       "<div>\n",
       "<style scoped>\n",
       "    .dataframe tbody tr th:only-of-type {\n",
       "        vertical-align: middle;\n",
       "    }\n",
       "\n",
       "    .dataframe tbody tr th {\n",
       "        vertical-align: top;\n",
       "    }\n",
       "\n",
       "    .dataframe thead th {\n",
       "        text-align: right;\n",
       "    }\n",
       "</style>\n",
       "<table border=\"1\" class=\"dataframe\">\n",
       "  <thead>\n",
       "    <tr style=\"text-align: right;\">\n",
       "      <th></th>\n",
       "      <th>year</th>\n",
       "      <th>crop_grain_yield</th>\n",
       "    </tr>\n",
       "  </thead>\n",
       "  <tbody>\n",
       "    <tr>\n",
       "      <th>0</th>\n",
       "      <td>1985</td>\n",
       "      <td>225447</td>\n",
       "    </tr>\n",
       "    <tr>\n",
       "      <th>1</th>\n",
       "      <td>1986</td>\n",
       "      <td>208944</td>\n",
       "    </tr>\n",
       "    <tr>\n",
       "      <th>2</th>\n",
       "      <td>1987</td>\n",
       "      <td>181143</td>\n",
       "    </tr>\n",
       "    <tr>\n",
       "      <th>3</th>\n",
       "      <td>1988</td>\n",
       "      <td>125194</td>\n",
       "    </tr>\n",
       "    <tr>\n",
       "      <th>4</th>\n",
       "      <td>1989</td>\n",
       "      <td>191320</td>\n",
       "    </tr>\n",
       "  </tbody>\n",
       "</table>\n",
       "</div>"
      ],
      "text/plain": [
       "   year  crop_grain_yield\n",
       "0  1985            225447\n",
       "1  1986            208944\n",
       "2  1987            181143\n",
       "3  1988            125194\n",
       "4  1989            191320"
      ]
     },
     "execution_count": 229,
     "metadata": {},
     "output_type": "execute_result"
    }
   ],
   "source": [
    "crop_df.head()"
   ]
  },
  {
   "cell_type": "code",
   "execution_count": 258,
   "id": "1957603b-cb23-481a-b5cf-f01fec672fec",
   "metadata": {},
   "outputs": [
    {
     "data": {
      "text/plain": [
       "30"
      ]
     },
     "execution_count": 258,
     "metadata": {},
     "output_type": "execute_result"
    }
   ],
   "source": [
    "len(crop_df)"
   ]
  },
  {
   "cell_type": "code",
   "execution_count": 169,
   "id": "0e894e18-83ef-40f7-90b8-1fea3b82620c",
   "metadata": {},
   "outputs": [],
   "source": [
    "# utils.py\n",
    "\n",
    "from configparser import ConfigParser\n",
    "\n",
    "# Read Config file\n",
    "cfg_file = 'config.ini'\n",
    "config = ConfigParser()\n",
    "config.read(cfg_file, encoding=\"utf-8\")\n",
    "\n",
    "# Storing the contents of the config file into respective dictionary variables\n",
    "db_params = dict(config.items('db_params'))"
   ]
  },
  {
   "cell_type": "code",
   "execution_count": 270,
   "id": "9b94b629-5076-4223-a686-1163af5764c2",
   "metadata": {},
   "outputs": [],
   "source": [
    "# database_operations.py\n",
    "\n",
    "def create_db_conn(**db_params):\n",
    "    \n",
    "    conn = psycopg2.connect(\n",
    "        host = db_params['hostname'], \n",
    "        port= db_params['port'], \n",
    "        database= db_params['dbname'], \n",
    "        user= db_params['username'], \n",
    "        password = db_params['password']\n",
    "    )\n",
    "    cursor = conn.cursor()\n",
    "    \n",
    "    return conn, cursor\n",
    "\n",
    "\n",
    "def create_weather_data_table(connection, cursor):\n",
    "    \n",
    "    create_table = '''\n",
    "                    CREATE TABLE IF NOT EXISTS weather_data(\n",
    "                    date DATE NOT NULL,\n",
    "                    max_temp INTEGER NOT NULL,\n",
    "                    min_temp NUMERIC NOT NULL,\n",
    "                    precipitation_amt NUMERIC NULL,\n",
    "                    station_id NUMERIC NULL,\n",
    "                    wid TEXT PRIMARY KEY NOT NULL);\n",
    "                    '''\n",
    "    cursor.execute(create_table)\n",
    "    # logging.info(\"Table created : weather_transformed\")\n",
    "    connection.commit()\n",
    "    connection.close()\n",
    "\n",
    "    return None\n",
    "\n",
    "def create_crop_yield_table(connection, cursor):\n",
    "    \n",
    "    create_table = '''\n",
    "                    CREATE TABLE IF NOT EXISTS crop_yield_data(\n",
    "                    year NUMERIC NOT NULL,\n",
    "                    crop_grain_yield NUMERIC NOT NULL);\n",
    "                   '''\n",
    "    cursor.execute(create_table)\n",
    "    # logging\n",
    "    connection.commit()\n",
    "    connection.close()\n",
    "    \n",
    "    return None\n",
    "\n",
    "def insert_data_into_db(connection, cursor, table_name, df):\n",
    "    \n",
    "    # Convert columns to the best possible dtypes using dtypes supporting pd.NA\n",
    "    # df = df.convert_dtypes()\n",
    "    # Define column names for the tables\n",
    "    column_names = df.columns.tolist()\n",
    "    \n",
    "    # Loop through rows of Pandas DataFrame and insert into PostgreSQL table\n",
    "    for index, row in df[:100].iterrows():\n",
    "        # Create a tuple of values to insert\n",
    "        values = tuple(row.values)\n",
    "\n",
    "        # Check if the row already exists in the database\n",
    "        sql_query = \"SELECT EXISTS (SELECT 1 FROM {} WHERE {})\".format(table_name, \" AND \".join([f\"{column}=%s\" for column in column_names]))\n",
    "        cursor.execute(sql_query, values)\n",
    "        result = cursor.fetchone()\n",
    "\n",
    "        # If the row doesn't already exist, insert it\n",
    "        if not result[0]:\n",
    "            sql_query = \"INSERT INTO {} ({}) VALUES {}\".format(table_name, \", \".join(column_names), values)\n",
    "            cursor.execute(sql_query)\n",
    "\n",
    "    # Commit changes to the database\n",
    "    connection.commit()\n",
    "    cursor.close()\n",
    "    \n",
    "    return None"
   ]
  },
  {
   "cell_type": "code",
   "execution_count": 271,
   "id": "f38d3588-67c0-4370-9923-9cf23d523cf9",
   "metadata": {},
   "outputs": [],
   "source": [
    "conn, cursor = create_db_conn(**db_params)"
   ]
  },
  {
   "cell_type": "code",
   "execution_count": 240,
   "id": "235dc37c-2762-4c8b-8600-91a62d6cfc16",
   "metadata": {},
   "outputs": [],
   "source": [
    "create_weather_data_table(conn, cursor)"
   ]
  },
  {
   "cell_type": "code",
   "execution_count": 244,
   "id": "8e6f73a0-09d0-4206-a53d-f4937ae9e61b",
   "metadata": {},
   "outputs": [],
   "source": [
    "create_crop_yield_table(conn, cursor)"
   ]
  },
  {
   "cell_type": "code",
   "execution_count": 266,
   "id": "ff6d5484-ae16-4963-85c5-bc65e2fe52e0",
   "metadata": {},
   "outputs": [],
   "source": [
    "insert_data_into_db(conn, cursor, 'crop_yield_data', crop_df)"
   ]
  },
  {
   "cell_type": "code",
   "execution_count": 272,
   "id": "43505f36-b75a-4cac-ba45-da05cb75236b",
   "metadata": {},
   "outputs": [
    {
     "ename": "InvalidTextRepresentation",
     "evalue": "invalid input syntax for type numeric: \"USC00110072\"\nLINE 1: ...emp= -128 AND precipitation_amt=94 AND station_id='USC001100...\n                                                             ^\n",
     "output_type": "error",
     "traceback": [
      "\u001b[1;31m---------------------------------------------------------------------------\u001b[0m",
      "\u001b[1;31mInvalidTextRepresentation\u001b[0m                 Traceback (most recent call last)",
      "Cell \u001b[1;32mIn[272], line 1\u001b[0m\n\u001b[1;32m----> 1\u001b[0m \u001b[43minsert_data_into_db\u001b[49m\u001b[43m(\u001b[49m\u001b[43mconn\u001b[49m\u001b[43m,\u001b[49m\u001b[43m \u001b[49m\u001b[43mcursor\u001b[49m\u001b[43m,\u001b[49m\u001b[43m \u001b[49m\u001b[38;5;124;43m'\u001b[39;49m\u001b[38;5;124;43mweather_data\u001b[39;49m\u001b[38;5;124;43m'\u001b[39;49m\u001b[43m,\u001b[49m\u001b[43m \u001b[49m\u001b[43mweather_df\u001b[49m\u001b[43m)\u001b[49m\n",
      "Cell \u001b[1;32mIn[270], line 63\u001b[0m, in \u001b[0;36minsert_data_into_db\u001b[1;34m(connection, cursor, table_name, df)\u001b[0m\n\u001b[0;32m     61\u001b[0m \u001b[38;5;66;03m# Check if the row already exists in the database\u001b[39;00m\n\u001b[0;32m     62\u001b[0m sql_query \u001b[38;5;241m=\u001b[39m \u001b[38;5;124m\"\u001b[39m\u001b[38;5;124mSELECT EXISTS (SELECT 1 FROM \u001b[39m\u001b[38;5;132;01m{}\u001b[39;00m\u001b[38;5;124m WHERE \u001b[39m\u001b[38;5;132;01m{}\u001b[39;00m\u001b[38;5;124m)\u001b[39m\u001b[38;5;124m\"\u001b[39m\u001b[38;5;241m.\u001b[39mformat(table_name, \u001b[38;5;124m\"\u001b[39m\u001b[38;5;124m AND \u001b[39m\u001b[38;5;124m\"\u001b[39m\u001b[38;5;241m.\u001b[39mjoin([\u001b[38;5;124mf\u001b[39m\u001b[38;5;124m\"\u001b[39m\u001b[38;5;132;01m{\u001b[39;00mcolumn\u001b[38;5;132;01m}\u001b[39;00m\u001b[38;5;124m=%s\u001b[39m\u001b[38;5;124m\"\u001b[39m \u001b[38;5;28;01mfor\u001b[39;00m column \u001b[38;5;129;01min\u001b[39;00m column_names]))\n\u001b[1;32m---> 63\u001b[0m \u001b[43mcursor\u001b[49m\u001b[38;5;241;43m.\u001b[39;49m\u001b[43mexecute\u001b[49m\u001b[43m(\u001b[49m\u001b[43msql_query\u001b[49m\u001b[43m,\u001b[49m\u001b[43m \u001b[49m\u001b[43mvalues\u001b[49m\u001b[43m)\u001b[49m\n\u001b[0;32m     64\u001b[0m result \u001b[38;5;241m=\u001b[39m cursor\u001b[38;5;241m.\u001b[39mfetchone()\n\u001b[0;32m     66\u001b[0m \u001b[38;5;66;03m# If the row doesn't already exist, insert it\u001b[39;00m\n",
      "\u001b[1;31mInvalidTextRepresentation\u001b[0m: invalid input syntax for type numeric: \"USC00110072\"\nLINE 1: ...emp= -128 AND precipitation_amt=94 AND station_id='USC001100...\n                                                             ^\n"
     ]
    }
   ],
   "source": [
    "insert_data_into_db(conn, cursor, 'weather_data', weather_df)"
   ]
  },
  {
   "cell_type": "code",
   "execution_count": null,
   "id": "d94d9afb-5ed9-4a34-b726-fd98e5cd33a0",
   "metadata": {},
   "outputs": [],
   "source": []
  },
  {
   "cell_type": "code",
   "execution_count": null,
   "id": "1bd5dfc0-058d-4221-8867-c5327fae51ff",
   "metadata": {},
   "outputs": [],
   "source": []
  },
  {
   "cell_type": "code",
   "execution_count": null,
   "id": "eade47eb-d016-458c-a732-1c7292b336e2",
   "metadata": {},
   "outputs": [],
   "source": []
  },
  {
   "cell_type": "code",
   "execution_count": null,
   "id": "3cdf3501-abe4-4a5f-8583-0badea5b3b08",
   "metadata": {},
   "outputs": [],
   "source": []
  },
  {
   "cell_type": "code",
   "execution_count": null,
   "id": "d2d137ea-6f7f-43df-8291-cad589658b54",
   "metadata": {},
   "outputs": [],
   "source": []
  },
  {
   "cell_type": "code",
   "execution_count": null,
   "id": "da263273-a9ab-46e0-b3fe-cebc30d71180",
   "metadata": {},
   "outputs": [],
   "source": []
  },
  {
   "cell_type": "code",
   "execution_count": null,
   "id": "1766c7ab-c98f-4e87-9e99-bb196bfba5dc",
   "metadata": {},
   "outputs": [],
   "source": []
  },
  {
   "cell_type": "code",
   "execution_count": 126,
   "id": "45041b25",
   "metadata": {},
   "outputs": [],
   "source": [
    "conn = psycopg2.connect(host='localhost', port=5432, database='Crop_Weather_ETL', user='postgres', password='M408a1@543')"
   ]
  },
  {
   "cell_type": "code",
   "execution_count": 127,
   "id": "761813e0-2c34-4c14-a670-733045b605c8",
   "metadata": {},
   "outputs": [],
   "source": [
    "cursor = conn.cursor()"
   ]
  },
  {
   "cell_type": "code",
   "execution_count": 125,
   "id": "c91cc051-1d6d-4e49-9b26-b59d7b18e089",
   "metadata": {},
   "outputs": [],
   "source": [
    "conn.close()"
   ]
  },
  {
   "cell_type": "code",
   "execution_count": 38,
   "id": "dbf43838-ad69-4da5-8135-511c5246dca1",
   "metadata": {},
   "outputs": [],
   "source": [
    "cursor.execute(\"INSERT INTO weather_transformed (w_key, temperature_recorded_date, max_temp_in_c, min_temp_in_c, precipitation_CM, region, file_name) \\\n",
    "                   VALUES ('1', '19940203', 42.4, -45.4, 102, 461, 12)\");\n",
    "conn.commit()"
   ]
  },
  {
   "cell_type": "code",
   "execution_count": 44,
   "id": "6255df6a-ffba-4b42-8359-2f744b62a14e",
   "metadata": {},
   "outputs": [],
   "source": [
    "path = r'C:/Users/abhij/OneDrive - Indiana University/Interview Coding Tests/Corteva_Data Engineering/code-challenge-template/wx_data/'"
   ]
  },
  {
   "cell_type": "code",
   "execution_count": 62,
   "id": "3c63ddb1-2b4b-4c09-ba6c-235251afb1a7",
   "metadata": {
    "tags": []
   },
   "outputs": [],
   "source": [
    "csvlist = []\n",
    "for i in os.listdir(path):\n",
    "    dfname = 'df' + '_' + str(i)\n",
    "    dfname = pd.read_csv(os.path.join(path, i), sep='\\t', names=['Date', 'max_temp', 'min_temp', 'precipitation_amt'])\n",
    "    dfname['fname'] = i\n",
    "    csvlist.append(dfname)\n",
    "    \n",
    "df = pd.concat(csvlist, axis=0, ignore_index=True)"
   ]
  },
  {
   "cell_type": "code",
   "execution_count": 92,
   "id": "75865817-85b8-44e8-9834-25360dd178f3",
   "metadata": {},
   "outputs": [],
   "source": [
    "df = df.rename(columns={'Date':'date'})"
   ]
  },
  {
   "cell_type": "code",
   "execution_count": 142,
   "id": "f875d8f9-fa88-4086-aca3-a708672547f2",
   "metadata": {},
   "outputs": [
    {
     "data": {
      "text/html": [
       "<div>\n",
       "<style scoped>\n",
       "    .dataframe tbody tr th:only-of-type {\n",
       "        vertical-align: middle;\n",
       "    }\n",
       "\n",
       "    .dataframe tbody tr th {\n",
       "        vertical-align: top;\n",
       "    }\n",
       "\n",
       "    .dataframe thead th {\n",
       "        text-align: right;\n",
       "    }\n",
       "</style>\n",
       "<table border=\"1\" class=\"dataframe\">\n",
       "  <thead>\n",
       "    <tr style=\"text-align: right;\">\n",
       "      <th></th>\n",
       "      <th>date</th>\n",
       "      <th>max_temp</th>\n",
       "      <th>min_temp</th>\n",
       "      <th>precipitation_amt</th>\n",
       "      <th>fname</th>\n",
       "    </tr>\n",
       "  </thead>\n",
       "  <tbody>\n",
       "    <tr>\n",
       "      <th>0</th>\n",
       "      <td>19850101</td>\n",
       "      <td>-22</td>\n",
       "      <td>-128</td>\n",
       "      <td>94</td>\n",
       "      <td>USC00110072.txt</td>\n",
       "    </tr>\n",
       "    <tr>\n",
       "      <th>1</th>\n",
       "      <td>19850102</td>\n",
       "      <td>-122</td>\n",
       "      <td>-217</td>\n",
       "      <td>0</td>\n",
       "      <td>USC00110072.txt</td>\n",
       "    </tr>\n",
       "    <tr>\n",
       "      <th>2</th>\n",
       "      <td>19850103</td>\n",
       "      <td>-106</td>\n",
       "      <td>-244</td>\n",
       "      <td>0</td>\n",
       "      <td>USC00110072.txt</td>\n",
       "    </tr>\n",
       "    <tr>\n",
       "      <th>3</th>\n",
       "      <td>19850104</td>\n",
       "      <td>-56</td>\n",
       "      <td>-189</td>\n",
       "      <td>0</td>\n",
       "      <td>USC00110072.txt</td>\n",
       "    </tr>\n",
       "    <tr>\n",
       "      <th>4</th>\n",
       "      <td>19850105</td>\n",
       "      <td>11</td>\n",
       "      <td>-78</td>\n",
       "      <td>0</td>\n",
       "      <td>USC00110072.txt</td>\n",
       "    </tr>\n",
       "  </tbody>\n",
       "</table>\n",
       "</div>"
      ],
      "text/plain": [
       "       date  max_temp  min_temp  precipitation_amt            fname\n",
       "0  19850101       -22      -128                 94  USC00110072.txt\n",
       "1  19850102      -122      -217                  0  USC00110072.txt\n",
       "2  19850103      -106      -244                  0  USC00110072.txt\n",
       "3  19850104       -56      -189                  0  USC00110072.txt\n",
       "4  19850105        11       -78                  0  USC00110072.txt"
      ]
     },
     "execution_count": 142,
     "metadata": {},
     "output_type": "execute_result"
    }
   ],
   "source": [
    "df.head()"
   ]
  },
  {
   "cell_type": "code",
   "execution_count": 102,
   "id": "9590a945-1bb0-4d3b-b915-17d26bd23c17",
   "metadata": {},
   "outputs": [
    {
     "data": {
      "text/plain": [
       "['date', 'max_temp', 'min_temp', 'precipitation_amt', 'fname']"
      ]
     },
     "execution_count": 102,
     "metadata": {},
     "output_type": "execute_result"
    }
   ],
   "source": [
    "df.columns.tolist()"
   ]
  },
  {
   "cell_type": "code",
   "execution_count": 115,
   "id": "b8b7a8f6-d994-4475-8464-405f8b11da79",
   "metadata": {},
   "outputs": [],
   "source": [
    "# Define PostgreSQL column names\n",
    "column_names = df.columns.tolist()\n",
    "\n",
    "# Loop through rows of Pandas DataFrame and insert into PostgreSQL table\n",
    "for i,row in df[:100].iterrows():\n",
    "    sql = \"INSERT INTO {} ({}) VALUES {} ON CONFLICT DO NOTHING\".format('weather_new', \", \".join(column_names), tuple(row))\n",
    "    cursor.execute(sql);\n",
    "    \n",
    "# Commit changes to the database\n",
    "conn.commit()"
   ]
  },
  {
   "cell_type": "code",
   "execution_count": 274,
   "id": "15787071-9cc9-40e3-9d05-ea0f41284b05",
   "metadata": {},
   "outputs": [
    {
     "ename": "IndexError",
     "evalue": "tuple index out of range",
     "output_type": "error",
     "traceback": [
      "\u001b[1;31m---------------------------------------------------------------------------\u001b[0m",
      "\u001b[1;31mIndexError\u001b[0m                                Traceback (most recent call last)",
      "Cell \u001b[1;32mIn[274], line 10\u001b[0m\n\u001b[0;32m      8\u001b[0m \u001b[38;5;66;03m# Check if the row already exists in the database\u001b[39;00m\n\u001b[0;32m      9\u001b[0m sql \u001b[38;5;241m=\u001b[39m \u001b[38;5;124m\"\u001b[39m\u001b[38;5;124mSELECT EXISTS (SELECT 1 FROM \u001b[39m\u001b[38;5;132;01m{}\u001b[39;00m\u001b[38;5;124m WHERE \u001b[39m\u001b[38;5;132;01m{}\u001b[39;00m\u001b[38;5;124m)\u001b[39m\u001b[38;5;124m\"\u001b[39m\u001b[38;5;241m.\u001b[39mformat(\u001b[38;5;124m'\u001b[39m\u001b[38;5;124mweather_data\u001b[39m\u001b[38;5;124m'\u001b[39m, \u001b[38;5;124m\"\u001b[39m\u001b[38;5;124m AND \u001b[39m\u001b[38;5;124m\"\u001b[39m\u001b[38;5;241m.\u001b[39mjoin([\u001b[38;5;124mf\u001b[39m\u001b[38;5;124m\"\u001b[39m\u001b[38;5;132;01m{\u001b[39;00mcolumn\u001b[38;5;132;01m}\u001b[39;00m\u001b[38;5;124m=%s\u001b[39m\u001b[38;5;124m\"\u001b[39m \u001b[38;5;28;01mfor\u001b[39;00m column \u001b[38;5;129;01min\u001b[39;00m column_names]))\n\u001b[1;32m---> 10\u001b[0m \u001b[43mcursor\u001b[49m\u001b[38;5;241;43m.\u001b[39;49m\u001b[43mexecute\u001b[49m\u001b[43m(\u001b[49m\u001b[43msql\u001b[49m\u001b[43m,\u001b[49m\u001b[43m \u001b[49m\u001b[43mvalues\u001b[49m\u001b[43m)\u001b[49m\n\u001b[0;32m     11\u001b[0m result \u001b[38;5;241m=\u001b[39m cursor\u001b[38;5;241m.\u001b[39mfetchone()\n\u001b[0;32m     13\u001b[0m \u001b[38;5;66;03m# If the row doesn't already exist, insert it\u001b[39;00m\n",
      "\u001b[1;31mIndexError\u001b[0m: tuple index out of range"
     ]
    }
   ],
   "source": [
    "\n",
    "column_names = weather_df.columns.tolist()\n",
    "\n",
    "# Loop through rows of Pandas DataFrame and insert into PostgreSQL table\n",
    "for index, row in df[:100].iterrows():\n",
    "    # Create a tuple of values to insert\n",
    "    values = tuple(row.values)\n",
    "    \n",
    "    # Check if the row already exists in the database\n",
    "    sql = \"SELECT EXISTS (SELECT 1 FROM {} WHERE {})\".format('weather_data', \" AND \".join([f\"{column}=%s\" for column in column_names]))\n",
    "    cursor.execute(sql, values)\n",
    "    result = cursor.fetchone()\n",
    "    \n",
    "    # If the row doesn't already exist, insert it\n",
    "    if not result[0]:\n",
    "        sql = \"INSERT INTO {} ({}) VALUES {}\".format('weather_data', \", \".join(column_names), values)\n",
    "        cursor.execute(sql)\n",
    "\n",
    "# Commit changes to the database\n",
    "conn.commit()\n"
   ]
  },
  {
   "cell_type": "code",
   "execution_count": 122,
   "id": "c706bef0-87ff-42af-8ace-f020486549ee",
   "metadata": {},
   "outputs": [],
   "source": [
    "df['date'] = df.date.astype(str)"
   ]
  },
  {
   "cell_type": "code",
   "execution_count": 123,
   "id": "e5cf572a-2266-4640-9a82-99ca3978bc7b",
   "metadata": {},
   "outputs": [
    {
     "name": "stdout",
     "output_type": "stream",
     "text": [
      "<class 'pandas.core.frame.DataFrame'>\n",
      "RangeIndex: 1729957 entries, 0 to 1729956\n",
      "Data columns (total 5 columns):\n",
      " #   Column             Dtype \n",
      "---  ------             ----- \n",
      " 0   date               object\n",
      " 1   max_temp           int64 \n",
      " 2   min_temp           int64 \n",
      " 3   precipitation_amt  int64 \n",
      " 4   fname              object\n",
      "dtypes: int64(3), object(2)\n",
      "memory usage: 66.0+ MB\n"
     ]
    }
   ],
   "source": [
    "df.info()"
   ]
  },
  {
   "cell_type": "code",
   "execution_count": null,
   "id": "17e23e7b-6520-42d3-b308-4968e0e55b45",
   "metadata": {},
   "outputs": [],
   "source": []
  }
 ],
 "metadata": {
  "kernelspec": {
   "display_name": "Python 3 (ipykernel)",
   "language": "python",
   "name": "python3"
  },
  "language_info": {
   "codemirror_mode": {
    "name": "ipython",
    "version": 3
   },
   "file_extension": ".py",
   "mimetype": "text/x-python",
   "name": "python",
   "nbconvert_exporter": "python",
   "pygments_lexer": "ipython3",
   "version": "3.8.16"
  }
 },
 "nbformat": 4,
 "nbformat_minor": 5
}
